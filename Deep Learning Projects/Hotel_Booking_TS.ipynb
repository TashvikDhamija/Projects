{
  "nbformat": 4,
  "nbformat_minor": 0,
  "metadata": {
    "colab": {
      "name": "Hotel Booking TS.ipynb",
      "provenance": [],
      "collapsed_sections": []
    },
    "kernelspec": {
      "name": "python3",
      "display_name": "Python 3"
    },
    "accelerator": "GPU"
  },
  "cells": [
    {
      "cell_type": "code",
      "metadata": {
        "id": "OqgB3NECRB19"
      },
      "source": [
        "import torch\r\n",
        "import numpy as np\r\n",
        "import pandas as pd\r\n",
        "import torch.nn as nn\r\n",
        "import torch.optim as opt\r\n",
        "import matplotlib.pyplot as plt\r\n",
        "from torch.autograd import Variable"
      ],
      "execution_count": null,
      "outputs": []
    },
    {
      "cell_type": "code",
      "metadata": {
        "colab": {
          "base_uri": "https://localhost:8080/"
        },
        "id": "Rdac-_2iU4rt",
        "outputId": "7e389358-e43a-4c10-b354-e78254d7d250"
      },
      "source": [
        "from google.colab import drive\r\n",
        "drive.mount('/gdrive')"
      ],
      "execution_count": null,
      "outputs": [
        {
          "output_type": "stream",
          "text": [
            "Mounted at /gdrive\n"
          ],
          "name": "stdout"
        }
      ]
    },
    {
      "cell_type": "code",
      "metadata": {
        "id": "C4yRScK6VDL9"
      },
      "source": [
        "data = pd.read_csv(\"/gdrive/MyDrive/hotel_bookings.csv\",converters={'arrival_date_week_number': '{:0>2}'.format})"
      ],
      "execution_count": null,
      "outputs": []
    },
    {
      "cell_type": "code",
      "metadata": {
        "colab": {
          "base_uri": "https://localhost:8080/",
          "height": 299
        },
        "id": "QdEVhPx3VZsF",
        "outputId": "98c178c7-673e-4d8c-c5fe-35624f937cec"
      },
      "source": [
        "data.head()"
      ],
      "execution_count": null,
      "outputs": [
        {
          "output_type": "execute_result",
          "data": {
            "text/html": [
              "<div>\n",
              "<style scoped>\n",
              "    .dataframe tbody tr th:only-of-type {\n",
              "        vertical-align: middle;\n",
              "    }\n",
              "\n",
              "    .dataframe tbody tr th {\n",
              "        vertical-align: top;\n",
              "    }\n",
              "\n",
              "    .dataframe thead th {\n",
              "        text-align: right;\n",
              "    }\n",
              "</style>\n",
              "<table border=\"1\" class=\"dataframe\">\n",
              "  <thead>\n",
              "    <tr style=\"text-align: right;\">\n",
              "      <th></th>\n",
              "      <th>hotel</th>\n",
              "      <th>is_canceled</th>\n",
              "      <th>lead_time</th>\n",
              "      <th>arrival_date_year</th>\n",
              "      <th>arrival_date_month</th>\n",
              "      <th>arrival_date_week_number</th>\n",
              "      <th>arrival_date_day_of_month</th>\n",
              "      <th>stays_in_weekend_nights</th>\n",
              "      <th>stays_in_week_nights</th>\n",
              "      <th>adults</th>\n",
              "      <th>children</th>\n",
              "      <th>babies</th>\n",
              "      <th>meal</th>\n",
              "      <th>country</th>\n",
              "      <th>market_segment</th>\n",
              "      <th>distribution_channel</th>\n",
              "      <th>is_repeated_guest</th>\n",
              "      <th>previous_cancellations</th>\n",
              "      <th>previous_bookings_not_canceled</th>\n",
              "      <th>reserved_room_type</th>\n",
              "      <th>assigned_room_type</th>\n",
              "      <th>booking_changes</th>\n",
              "      <th>deposit_type</th>\n",
              "      <th>agent</th>\n",
              "      <th>company</th>\n",
              "      <th>days_in_waiting_list</th>\n",
              "      <th>customer_type</th>\n",
              "      <th>adr</th>\n",
              "      <th>required_car_parking_spaces</th>\n",
              "      <th>total_of_special_requests</th>\n",
              "      <th>reservation_status</th>\n",
              "      <th>reservation_status_date</th>\n",
              "    </tr>\n",
              "  </thead>\n",
              "  <tbody>\n",
              "    <tr>\n",
              "      <th>0</th>\n",
              "      <td>Resort Hotel</td>\n",
              "      <td>0</td>\n",
              "      <td>342</td>\n",
              "      <td>2015</td>\n",
              "      <td>July</td>\n",
              "      <td>27</td>\n",
              "      <td>1</td>\n",
              "      <td>0</td>\n",
              "      <td>0</td>\n",
              "      <td>2</td>\n",
              "      <td>0.0</td>\n",
              "      <td>0</td>\n",
              "      <td>BB</td>\n",
              "      <td>PRT</td>\n",
              "      <td>Direct</td>\n",
              "      <td>Direct</td>\n",
              "      <td>0</td>\n",
              "      <td>0</td>\n",
              "      <td>0</td>\n",
              "      <td>C</td>\n",
              "      <td>C</td>\n",
              "      <td>3</td>\n",
              "      <td>No Deposit</td>\n",
              "      <td>NaN</td>\n",
              "      <td>NaN</td>\n",
              "      <td>0</td>\n",
              "      <td>Transient</td>\n",
              "      <td>0.0</td>\n",
              "      <td>0</td>\n",
              "      <td>0</td>\n",
              "      <td>Check-Out</td>\n",
              "      <td>2015-07-01</td>\n",
              "    </tr>\n",
              "    <tr>\n",
              "      <th>1</th>\n",
              "      <td>Resort Hotel</td>\n",
              "      <td>0</td>\n",
              "      <td>737</td>\n",
              "      <td>2015</td>\n",
              "      <td>July</td>\n",
              "      <td>27</td>\n",
              "      <td>1</td>\n",
              "      <td>0</td>\n",
              "      <td>0</td>\n",
              "      <td>2</td>\n",
              "      <td>0.0</td>\n",
              "      <td>0</td>\n",
              "      <td>BB</td>\n",
              "      <td>PRT</td>\n",
              "      <td>Direct</td>\n",
              "      <td>Direct</td>\n",
              "      <td>0</td>\n",
              "      <td>0</td>\n",
              "      <td>0</td>\n",
              "      <td>C</td>\n",
              "      <td>C</td>\n",
              "      <td>4</td>\n",
              "      <td>No Deposit</td>\n",
              "      <td>NaN</td>\n",
              "      <td>NaN</td>\n",
              "      <td>0</td>\n",
              "      <td>Transient</td>\n",
              "      <td>0.0</td>\n",
              "      <td>0</td>\n",
              "      <td>0</td>\n",
              "      <td>Check-Out</td>\n",
              "      <td>2015-07-01</td>\n",
              "    </tr>\n",
              "    <tr>\n",
              "      <th>2</th>\n",
              "      <td>Resort Hotel</td>\n",
              "      <td>0</td>\n",
              "      <td>7</td>\n",
              "      <td>2015</td>\n",
              "      <td>July</td>\n",
              "      <td>27</td>\n",
              "      <td>1</td>\n",
              "      <td>0</td>\n",
              "      <td>1</td>\n",
              "      <td>1</td>\n",
              "      <td>0.0</td>\n",
              "      <td>0</td>\n",
              "      <td>BB</td>\n",
              "      <td>GBR</td>\n",
              "      <td>Direct</td>\n",
              "      <td>Direct</td>\n",
              "      <td>0</td>\n",
              "      <td>0</td>\n",
              "      <td>0</td>\n",
              "      <td>A</td>\n",
              "      <td>C</td>\n",
              "      <td>0</td>\n",
              "      <td>No Deposit</td>\n",
              "      <td>NaN</td>\n",
              "      <td>NaN</td>\n",
              "      <td>0</td>\n",
              "      <td>Transient</td>\n",
              "      <td>75.0</td>\n",
              "      <td>0</td>\n",
              "      <td>0</td>\n",
              "      <td>Check-Out</td>\n",
              "      <td>2015-07-02</td>\n",
              "    </tr>\n",
              "    <tr>\n",
              "      <th>3</th>\n",
              "      <td>Resort Hotel</td>\n",
              "      <td>0</td>\n",
              "      <td>13</td>\n",
              "      <td>2015</td>\n",
              "      <td>July</td>\n",
              "      <td>27</td>\n",
              "      <td>1</td>\n",
              "      <td>0</td>\n",
              "      <td>1</td>\n",
              "      <td>1</td>\n",
              "      <td>0.0</td>\n",
              "      <td>0</td>\n",
              "      <td>BB</td>\n",
              "      <td>GBR</td>\n",
              "      <td>Corporate</td>\n",
              "      <td>Corporate</td>\n",
              "      <td>0</td>\n",
              "      <td>0</td>\n",
              "      <td>0</td>\n",
              "      <td>A</td>\n",
              "      <td>A</td>\n",
              "      <td>0</td>\n",
              "      <td>No Deposit</td>\n",
              "      <td>304.0</td>\n",
              "      <td>NaN</td>\n",
              "      <td>0</td>\n",
              "      <td>Transient</td>\n",
              "      <td>75.0</td>\n",
              "      <td>0</td>\n",
              "      <td>0</td>\n",
              "      <td>Check-Out</td>\n",
              "      <td>2015-07-02</td>\n",
              "    </tr>\n",
              "    <tr>\n",
              "      <th>4</th>\n",
              "      <td>Resort Hotel</td>\n",
              "      <td>0</td>\n",
              "      <td>14</td>\n",
              "      <td>2015</td>\n",
              "      <td>July</td>\n",
              "      <td>27</td>\n",
              "      <td>1</td>\n",
              "      <td>0</td>\n",
              "      <td>2</td>\n",
              "      <td>2</td>\n",
              "      <td>0.0</td>\n",
              "      <td>0</td>\n",
              "      <td>BB</td>\n",
              "      <td>GBR</td>\n",
              "      <td>Online TA</td>\n",
              "      <td>TA/TO</td>\n",
              "      <td>0</td>\n",
              "      <td>0</td>\n",
              "      <td>0</td>\n",
              "      <td>A</td>\n",
              "      <td>A</td>\n",
              "      <td>0</td>\n",
              "      <td>No Deposit</td>\n",
              "      <td>240.0</td>\n",
              "      <td>NaN</td>\n",
              "      <td>0</td>\n",
              "      <td>Transient</td>\n",
              "      <td>98.0</td>\n",
              "      <td>0</td>\n",
              "      <td>1</td>\n",
              "      <td>Check-Out</td>\n",
              "      <td>2015-07-03</td>\n",
              "    </tr>\n",
              "  </tbody>\n",
              "</table>\n",
              "</div>"
            ],
            "text/plain": [
              "          hotel  is_canceled  ...  reservation_status  reservation_status_date\n",
              "0  Resort Hotel            0  ...           Check-Out               2015-07-01\n",
              "1  Resort Hotel            0  ...           Check-Out               2015-07-01\n",
              "2  Resort Hotel            0  ...           Check-Out               2015-07-02\n",
              "3  Resort Hotel            0  ...           Check-Out               2015-07-02\n",
              "4  Resort Hotel            0  ...           Check-Out               2015-07-03\n",
              "\n",
              "[5 rows x 32 columns]"
            ]
          },
          "metadata": {
            "tags": []
          },
          "execution_count": 4
        }
      ]
    },
    {
      "cell_type": "code",
      "metadata": {
        "colab": {
          "base_uri": "https://localhost:8080/",
          "height": 195
        },
        "id": "DpzzsFURZqVX",
        "outputId": "c235fb69-efad-4fe4-d2d5-d5f145ffab44"
      },
      "source": [
        "data = data.sort_values(['arrival_date_year','arrival_date_week_number'],ascending=True)\r\n",
        "dates = pd.DataFrame(data,columns=['arrival_date_year','arrival_date_week_number'])\r\n",
        "dates.head()"
      ],
      "execution_count": null,
      "outputs": [
        {
          "output_type": "execute_result",
          "data": {
            "text/html": [
              "<div>\n",
              "<style scoped>\n",
              "    .dataframe tbody tr th:only-of-type {\n",
              "        vertical-align: middle;\n",
              "    }\n",
              "\n",
              "    .dataframe tbody tr th {\n",
              "        vertical-align: top;\n",
              "    }\n",
              "\n",
              "    .dataframe thead th {\n",
              "        text-align: right;\n",
              "    }\n",
              "</style>\n",
              "<table border=\"1\" class=\"dataframe\">\n",
              "  <thead>\n",
              "    <tr style=\"text-align: right;\">\n",
              "      <th></th>\n",
              "      <th>arrival_date_year</th>\n",
              "      <th>arrival_date_week_number</th>\n",
              "    </tr>\n",
              "  </thead>\n",
              "  <tbody>\n",
              "    <tr>\n",
              "      <th>0</th>\n",
              "      <td>2015</td>\n",
              "      <td>27</td>\n",
              "    </tr>\n",
              "    <tr>\n",
              "      <th>1</th>\n",
              "      <td>2015</td>\n",
              "      <td>27</td>\n",
              "    </tr>\n",
              "    <tr>\n",
              "      <th>2</th>\n",
              "      <td>2015</td>\n",
              "      <td>27</td>\n",
              "    </tr>\n",
              "    <tr>\n",
              "      <th>3</th>\n",
              "      <td>2015</td>\n",
              "      <td>27</td>\n",
              "    </tr>\n",
              "    <tr>\n",
              "      <th>4</th>\n",
              "      <td>2015</td>\n",
              "      <td>27</td>\n",
              "    </tr>\n",
              "  </tbody>\n",
              "</table>\n",
              "</div>"
            ],
            "text/plain": [
              "   arrival_date_year arrival_date_week_number\n",
              "0               2015                       27\n",
              "1               2015                       27\n",
              "2               2015                       27\n",
              "3               2015                       27\n",
              "4               2015                       27"
            ]
          },
          "metadata": {
            "tags": []
          },
          "execution_count": 5
        }
      ]
    },
    {
      "cell_type": "code",
      "metadata": {
        "colab": {
          "base_uri": "https://localhost:8080/",
          "height": 402
        },
        "id": "NZmxxc0SbAGt",
        "outputId": "a2fb0fac-6780-4238-8bc6-968f89341bf7"
      },
      "source": [
        "dates = dates['arrival_date_year'].map(str) + dates['arrival_date_week_number'].map(str)\n",
        "dates = pd.DataFrame(dates)\n",
        "dates"
      ],
      "execution_count": null,
      "outputs": [
        {
          "output_type": "execute_result",
          "data": {
            "text/html": [
              "<div>\n",
              "<style scoped>\n",
              "    .dataframe tbody tr th:only-of-type {\n",
              "        vertical-align: middle;\n",
              "    }\n",
              "\n",
              "    .dataframe tbody tr th {\n",
              "        vertical-align: top;\n",
              "    }\n",
              "\n",
              "    .dataframe thead th {\n",
              "        text-align: right;\n",
              "    }\n",
              "</style>\n",
              "<table border=\"1\" class=\"dataframe\">\n",
              "  <thead>\n",
              "    <tr style=\"text-align: right;\">\n",
              "      <th></th>\n",
              "      <th>0</th>\n",
              "    </tr>\n",
              "  </thead>\n",
              "  <tbody>\n",
              "    <tr>\n",
              "      <th>0</th>\n",
              "      <td>201527</td>\n",
              "    </tr>\n",
              "    <tr>\n",
              "      <th>1</th>\n",
              "      <td>201527</td>\n",
              "    </tr>\n",
              "    <tr>\n",
              "      <th>2</th>\n",
              "      <td>201527</td>\n",
              "    </tr>\n",
              "    <tr>\n",
              "      <th>3</th>\n",
              "      <td>201527</td>\n",
              "    </tr>\n",
              "    <tr>\n",
              "      <th>4</th>\n",
              "      <td>201527</td>\n",
              "    </tr>\n",
              "    <tr>\n",
              "      <th>...</th>\n",
              "      <td>...</td>\n",
              "    </tr>\n",
              "    <tr>\n",
              "      <th>119385</th>\n",
              "      <td>201735</td>\n",
              "    </tr>\n",
              "    <tr>\n",
              "      <th>119386</th>\n",
              "      <td>201735</td>\n",
              "    </tr>\n",
              "    <tr>\n",
              "      <th>119387</th>\n",
              "      <td>201735</td>\n",
              "    </tr>\n",
              "    <tr>\n",
              "      <th>119388</th>\n",
              "      <td>201735</td>\n",
              "    </tr>\n",
              "    <tr>\n",
              "      <th>119389</th>\n",
              "      <td>201735</td>\n",
              "    </tr>\n",
              "  </tbody>\n",
              "</table>\n",
              "<p>119390 rows × 1 columns</p>\n",
              "</div>"
            ],
            "text/plain": [
              "             0\n",
              "0       201527\n",
              "1       201527\n",
              "2       201527\n",
              "3       201527\n",
              "4       201527\n",
              "...        ...\n",
              "119385  201735\n",
              "119386  201735\n",
              "119387  201735\n",
              "119388  201735\n",
              "119389  201735\n",
              "\n",
              "[119390 rows x 1 columns]"
            ]
          },
          "metadata": {
            "tags": []
          },
          "execution_count": 6
        }
      ]
    },
    {
      "cell_type": "code",
      "metadata": {
        "colab": {
          "base_uri": "https://localhost:8080/",
          "height": 195
        },
        "id": "biTCSJ6ScENn",
        "outputId": "1a8dd709-877f-46f0-b826-0cec4a968d77"
      },
      "source": [
        "df = pd.concat([dates,pd.DataFrame(data['is_canceled'])],axis=1)\r\n",
        "df.columns = ['full_date','is_canceled']\r\n",
        "df.sort_values(['full_date','is_canceled'],ascending = True,inplace = True)\r\n",
        "df.head()"
      ],
      "execution_count": null,
      "outputs": [
        {
          "output_type": "execute_result",
          "data": {
            "text/html": [
              "<div>\n",
              "<style scoped>\n",
              "    .dataframe tbody tr th:only-of-type {\n",
              "        vertical-align: middle;\n",
              "    }\n",
              "\n",
              "    .dataframe tbody tr th {\n",
              "        vertical-align: top;\n",
              "    }\n",
              "\n",
              "    .dataframe thead th {\n",
              "        text-align: right;\n",
              "    }\n",
              "</style>\n",
              "<table border=\"1\" class=\"dataframe\">\n",
              "  <thead>\n",
              "    <tr style=\"text-align: right;\">\n",
              "      <th></th>\n",
              "      <th>full_date</th>\n",
              "      <th>is_canceled</th>\n",
              "    </tr>\n",
              "  </thead>\n",
              "  <tbody>\n",
              "    <tr>\n",
              "      <th>0</th>\n",
              "      <td>201527</td>\n",
              "      <td>0</td>\n",
              "    </tr>\n",
              "    <tr>\n",
              "      <th>1</th>\n",
              "      <td>201527</td>\n",
              "      <td>0</td>\n",
              "    </tr>\n",
              "    <tr>\n",
              "      <th>2</th>\n",
              "      <td>201527</td>\n",
              "      <td>0</td>\n",
              "    </tr>\n",
              "    <tr>\n",
              "      <th>3</th>\n",
              "      <td>201527</td>\n",
              "      <td>0</td>\n",
              "    </tr>\n",
              "    <tr>\n",
              "      <th>4</th>\n",
              "      <td>201527</td>\n",
              "      <td>0</td>\n",
              "    </tr>\n",
              "  </tbody>\n",
              "</table>\n",
              "</div>"
            ],
            "text/plain": [
              "  full_date  is_canceled\n",
              "0    201527            0\n",
              "1    201527            0\n",
              "2    201527            0\n",
              "3    201527            0\n",
              "4    201527            0"
            ]
          },
          "metadata": {
            "tags": []
          },
          "execution_count": 7
        }
      ]
    },
    {
      "cell_type": "code",
      "metadata": {
        "colab": {
          "base_uri": "https://localhost:8080/",
          "height": 225
        },
        "id": "iqiFwRslcSkJ",
        "outputId": "35e29055-9661-4a96-f768-558e3ad37206"
      },
      "source": [
        "df = df.groupby('full_date').agg(sum)\r\n",
        "df.sort_values(['full_date'],ascending = True, inplace = True)\r\n",
        "df.head()"
      ],
      "execution_count": null,
      "outputs": [
        {
          "output_type": "execute_result",
          "data": {
            "text/html": [
              "<div>\n",
              "<style scoped>\n",
              "    .dataframe tbody tr th:only-of-type {\n",
              "        vertical-align: middle;\n",
              "    }\n",
              "\n",
              "    .dataframe tbody tr th {\n",
              "        vertical-align: top;\n",
              "    }\n",
              "\n",
              "    .dataframe thead th {\n",
              "        text-align: right;\n",
              "    }\n",
              "</style>\n",
              "<table border=\"1\" class=\"dataframe\">\n",
              "  <thead>\n",
              "    <tr style=\"text-align: right;\">\n",
              "      <th></th>\n",
              "      <th>is_canceled</th>\n",
              "    </tr>\n",
              "    <tr>\n",
              "      <th>full_date</th>\n",
              "      <th></th>\n",
              "    </tr>\n",
              "  </thead>\n",
              "  <tbody>\n",
              "    <tr>\n",
              "      <th>201527</th>\n",
              "      <td>138</td>\n",
              "    </tr>\n",
              "    <tr>\n",
              "      <th>201528</th>\n",
              "      <td>201</td>\n",
              "    </tr>\n",
              "    <tr>\n",
              "      <th>201529</th>\n",
              "      <td>315</td>\n",
              "    </tr>\n",
              "    <tr>\n",
              "      <th>201530</th>\n",
              "      <td>395</td>\n",
              "    </tr>\n",
              "    <tr>\n",
              "      <th>201531</th>\n",
              "      <td>260</td>\n",
              "    </tr>\n",
              "  </tbody>\n",
              "</table>\n",
              "</div>"
            ],
            "text/plain": [
              "           is_canceled\n",
              "full_date             \n",
              "201527             138\n",
              "201528             201\n",
              "201529             315\n",
              "201530             395\n",
              "201531             260"
            ]
          },
          "metadata": {
            "tags": []
          },
          "execution_count": 8
        }
      ]
    },
    {
      "cell_type": "code",
      "metadata": {
        "colab": {
          "base_uri": "https://localhost:8080/"
        },
        "id": "fpUHWewAdE0t",
        "outputId": "da917181-b0f7-44c0-8ab8-0f53899326ad"
      },
      "source": [
        "ts = df['is_canceled']\r\n",
        "ts"
      ],
      "execution_count": null,
      "outputs": [
        {
          "output_type": "execute_result",
          "data": {
            "text/plain": [
              "full_date\n",
              "201527    138\n",
              "201528    201\n",
              "201529    315\n",
              "201530    395\n",
              "201531    260\n",
              "         ... \n",
              "201731    426\n",
              "201732    409\n",
              "201733    523\n",
              "201734    344\n",
              "201735    229\n",
              "Name: is_canceled, Length: 115, dtype: int64"
            ]
          },
          "metadata": {
            "tags": []
          },
          "execution_count": 9
        }
      ]
    },
    {
      "cell_type": "code",
      "metadata": {
        "colab": {
          "base_uri": "https://localhost:8080/",
          "height": 264
        },
        "id": "g54zjyVLgcF3",
        "outputId": "a173f076-ef94-4563-a495-e571a93cd706"
      },
      "source": [
        "plt.plot(ts)\r\n",
        "plt.tick_params(\r\n",
        "    axis='x',          # changes apply to the x-axis\r\n",
        "    which='both',      # both major and minor ticks are affected\r\n",
        "    bottom=False,      # ticks along the bottom edge are off\r\n",
        "    top=False,         # ticks along the top edge are off\r\n",
        "    labelbottom=False) # labels along the bottom edge are off\r\n",
        "plt.ylabel('Cancellations')\r\n",
        "plt.title(\"Cancellations Per Week\")\r\n",
        "plt.show()"
      ],
      "execution_count": null,
      "outputs": [
        {
          "output_type": "display_data",
          "data": {
            "image/png": "[encoded data removed]",
            "text/plain": [
              "<Figure size 432x288 with 1 Axes>"
            ]
          },
          "metadata": {
            "tags": [],
            "needs_background": "light"
          }
        }
      ]
    },
    {
      "cell_type": "code",
      "metadata": {
        "colab": {
          "base_uri": "https://localhost:8080/",
          "height": 225
        },
        "id": "n0BJ-opUdgIz",
        "outputId": "d96107ce-3926-414d-8042-f07afa129a01"
      },
      "source": [
        "df = pd.DataFrame(ts)\r\n",
        "df.head()"
      ],
      "execution_count": null,
      "outputs": [
        {
          "output_type": "execute_result",
          "data": {
            "text/html": [
              "<div>\n",
              "<style scoped>\n",
              "    .dataframe tbody tr th:only-of-type {\n",
              "        vertical-align: middle;\n",
              "    }\n",
              "\n",
              "    .dataframe tbody tr th {\n",
              "        vertical-align: top;\n",
              "    }\n",
              "\n",
              "    .dataframe thead th {\n",
              "        text-align: right;\n",
              "    }\n",
              "</style>\n",
              "<table border=\"1\" class=\"dataframe\">\n",
              "  <thead>\n",
              "    <tr style=\"text-align: right;\">\n",
              "      <th></th>\n",
              "      <th>is_canceled</th>\n",
              "    </tr>\n",
              "    <tr>\n",
              "      <th>full_date</th>\n",
              "      <th></th>\n",
              "    </tr>\n",
              "  </thead>\n",
              "  <tbody>\n",
              "    <tr>\n",
              "      <th>201527</th>\n",
              "      <td>138</td>\n",
              "    </tr>\n",
              "    <tr>\n",
              "      <th>201528</th>\n",
              "      <td>201</td>\n",
              "    </tr>\n",
              "    <tr>\n",
              "      <th>201529</th>\n",
              "      <td>315</td>\n",
              "    </tr>\n",
              "    <tr>\n",
              "      <th>201530</th>\n",
              "      <td>395</td>\n",
              "    </tr>\n",
              "    <tr>\n",
              "      <th>201531</th>\n",
              "      <td>260</td>\n",
              "    </tr>\n",
              "  </tbody>\n",
              "</table>\n",
              "</div>"
            ],
            "text/plain": [
              "           is_canceled\n",
              "full_date             \n",
              "201527             138\n",
              "201528             201\n",
              "201529             315\n",
              "201530             395\n",
              "201531             260"
            ]
          },
          "metadata": {
            "tags": []
          },
          "execution_count": 60
        }
      ]
    },
    {
      "cell_type": "code",
      "metadata": {
        "id": "0Df7cQBZe4_K"
      },
      "source": [
        "df = np.array(df,dtype='float32')"
      ],
      "execution_count": null,
      "outputs": []
    },
    {
      "cell_type": "code",
      "metadata": {
        "id": "te47tC0EuSOO"
      },
      "source": [
        "from sklearn.preprocessing import MinMaxScaler\r\n",
        "\r\n",
        "scaler = MinMaxScaler(feature_range=(-1, 1))\r\n",
        "df = scaler.fit_transform(df)"
      ],
      "execution_count": null,
      "outputs": []
    },
    {
      "cell_type": "code",
      "metadata": {
        "id": "cFkzMulkh_iV"
      },
      "source": [
        "df = torch.FloatTensor(df)"
      ],
      "execution_count": null,
      "outputs": []
    },
    {
      "cell_type": "code",
      "metadata": {
        "id": "KbyIzRP1ixJz"
      },
      "source": [
        "def createSeqDataset(series,window=10):\r\n",
        "  seq = []\r\n",
        "  for i in range(len(series)-window):\r\n",
        "    features = series[i:i+window]\r\n",
        "    label = series[i+window]\r\n",
        "    seq.append((features,label))\r\n",
        "  return seq"
      ],
      "execution_count": null,
      "outputs": []
    },
    {
      "cell_type": "code",
      "metadata": {
        "id": "5CE0g4vtoTqZ"
      },
      "source": [
        "window_size = 15\r\n",
        "df_seq = createSeqDataset(df,window_size)"
      ],
      "execution_count": null,
      "outputs": []
    },
    {
      "cell_type": "code",
      "metadata": {
        "colab": {
          "base_uri": "https://localhost:8080/"
        },
        "id": "EvoUdQdkhDSR",
        "outputId": "c7bcf215-33e8-4deb-b2e5-29e59a2e0387"
      },
      "source": [
        "df_seq[1]"
      ],
      "execution_count": null,
      "outputs": [
        {
          "output_type": "execute_result",
          "data": {
            "text/plain": [
              "(tensor([[-0.5837],\n",
              "         [-0.2518],\n",
              "         [-0.0189],\n",
              "         [-0.4119],\n",
              "         [-0.0742],\n",
              "         [ 0.3566],\n",
              "         [-0.4119],\n",
              "         [-0.2955],\n",
              "         [ 0.0364],\n",
              "         [ 0.0160],\n",
              "         [ 0.6215],\n",
              "         [ 0.3945],\n",
              "         [ 0.0393],\n",
              "         [ 0.5459],\n",
              "         [ 0.1412]]), tensor([-0.4585]))"
            ]
          },
          "metadata": {
            "tags": []
          },
          "execution_count": 66
        }
      ]
    },
    {
      "cell_type": "code",
      "metadata": {
        "id": "Ar4k6u_8g5Pi"
      },
      "source": [
        "train_size = int(len(df_seq) * 0.8)\r\n",
        "val_size = len(df_seq) - train_size\r\n",
        "train, val = df_seq[0:train_size], df_seq[train_size:len(df_seq)]"
      ],
      "execution_count": null,
      "outputs": []
    },
    {
      "cell_type": "code",
      "metadata": {
        "id": "_NSBvNBmomGL"
      },
      "source": [
        "class timeSeriesModel(nn.Module):\r\n",
        "  def __init__(self,input_size=1,num_classes=1,hidden_size=100,num_layers=1,bidir=False):\r\n",
        "    super().__init__()\r\n",
        "\r\n",
        "    self.num_classes = num_classes\r\n",
        "    self.num_layers = num_layers\r\n",
        "    self.input_size = input_size\r\n",
        "    self.hidden_size = hidden_size\r\n",
        "\r\n",
        "    self.lstm = nn.LSTM(input_size,hidden_size,num_layers,bidirectional=bidir)\r\n",
        "    self.fc = nn.Linear(hidden_size,num_classes)\r\n",
        "  \r\n",
        "  def forward(self,series):\r\n",
        "    h_0 = Variable(torch.zeros(self.num_layers, 1, self.hidden_size))     \r\n",
        "    c_0 = Variable(torch.zeros(self.num_layers, 1, self.hidden_size))\r\n",
        "    out,(hid,_) = self.lstm(series.view(len(series),1,-1),(h_0,c_0))\r\n",
        "    pred = self.fc(out.view(len(series),-1))\r\n",
        "    return pred[-1]"
      ],
      "execution_count": null,
      "outputs": []
    },
    {
      "cell_type": "code",
      "metadata": {
        "colab": {
          "base_uri": "https://localhost:8080/"
        },
        "id": "MWfcD3UMpi3E",
        "outputId": "d938ceae-7ea3-4114-f2ae-b8dfe6325458"
      },
      "source": [
        "num_epochs = 700\r\n",
        "lr = 1e-4\r\n",
        "net = timeSeriesModel(hidden_size=4,num_layers=1)\r\n",
        "loss_function = nn.SmoothL1Loss()\r\n",
        "optimizer = torch.optim.Adam(net.parameters(), lr=lr)\r\n",
        "print(net)"
      ],
      "execution_count": null,
      "outputs": [
        {
          "output_type": "stream",
          "text": [
            "timeSeriesModel(\n",
            "  (lstm): LSTM(1, 4)\n",
            "  (fc): Linear(in_features=4, out_features=1, bias=True)\n",
            ")\n"
          ],
          "name": "stdout"
        }
      ]
    },
    {
      "cell_type": "code",
      "metadata": {
        "colab": {
          "base_uri": "https://localhost:8080/"
        },
        "id": "12DF3VLYRTev",
        "outputId": "c42d8e62-fdb7-4ac4-8e0c-40213a7c027e"
      },
      "source": [
        "# Training the model \r\n",
        "for epoch in range(num_epochs):\r\n",
        "  for seq, label in train:\r\n",
        "    optimizer.zero_grad()\r\n",
        "    out = net(seq)\r\n",
        "\r\n",
        "    # obtain the loss function\r\n",
        "    loss = loss_function(out, label)\r\n",
        "    \r\n",
        "    loss.backward()\r\n",
        "    optimizer.step()\r\n",
        "\r\n",
        "  if epoch % 20 == 0:\r\n",
        "    print(\"Epoch: %d, loss: %1.15f\" % (epoch, loss.item()))"
      ],
      "execution_count": null,
      "outputs": [
        {
          "output_type": "stream",
          "text": [
            "Epoch: 0, loss: 0.612491250038147\n",
            "Epoch: 20, loss: 0.404826790094376\n",
            "Epoch: 40, loss: 0.316042125225067\n",
            "Epoch: 60, loss: 0.280455201864243\n",
            "Epoch: 80, loss: 0.263202190399170\n",
            "Epoch: 100, loss: 0.245492279529572\n",
            "Epoch: 120, loss: 0.228955954313278\n",
            "Epoch: 140, loss: 0.215670824050903\n",
            "Epoch: 160, loss: 0.204918146133423\n",
            "Epoch: 180, loss: 0.195965275168419\n",
            "Epoch: 200, loss: 0.188373789191246\n",
            "Epoch: 220, loss: 0.181846216320992\n",
            "Epoch: 240, loss: 0.176159903407097\n",
            "Epoch: 260, loss: 0.171139225363731\n",
            "Epoch: 280, loss: 0.166644230484962\n",
            "Epoch: 300, loss: 0.162563323974609\n",
            "Epoch: 320, loss: 0.158805921673775\n",
            "Epoch: 340, loss: 0.155301168560982\n",
            "Epoch: 360, loss: 0.151991769671440\n",
            "Epoch: 380, loss: 0.148833274841309\n",
            "Epoch: 400, loss: 0.145788937807083\n",
            "Epoch: 420, loss: 0.142826646566391\n",
            "Epoch: 440, loss: 0.139918416738510\n",
            "Epoch: 460, loss: 0.137038558721542\n",
            "Epoch: 480, loss: 0.134166851639748\n",
            "Epoch: 500, loss: 0.131288930773735\n",
            "Epoch: 520, loss: 0.128401130437851\n",
            "Epoch: 540, loss: 0.125511214137077\n",
            "Epoch: 560, loss: 0.122638270258904\n",
            "Epoch: 580, loss: 0.119813054800034\n",
            "Epoch: 600, loss: 0.117072157561779\n",
            "Epoch: 620, loss: 0.114453382790089\n",
            "Epoch: 640, loss: 0.111990623176098\n",
            "Epoch: 660, loss: 0.109709106385708\n",
            "Epoch: 680, loss: 0.107622921466827\n"
          ],
          "name": "stdout"
        }
      ]
    },
    {
      "cell_type": "code",
      "metadata": {
        "colab": {
          "base_uri": "https://localhost:8080/"
        },
        "id": "rzCgAASWSdO6",
        "outputId": "2af5383a-4303-4b6a-ae31-361d441c31a0"
      },
      "source": [
        "net.eval()\r\n",
        "y_pred = []\r\n",
        "y_real = []\r\n",
        "for seq, label in train:\r\n",
        "  with torch.no_grad():\r\n",
        "    y_pred.append(net(seq))\r\n",
        "    y_real.append(label)\r\n",
        "\r\n",
        "y_pred = scaler.inverse_transform(np.array(y_pred).reshape(-1, 1))\r\n",
        "y_real = scaler.inverse_transform(np.array(y_real).reshape(-1, 1))\r\n",
        "err = loss_function(torch.Tensor(y_pred),torch.Tensor(y_real))\r\n",
        "err"
      ],
      "execution_count": null,
      "outputs": [
        {
          "output_type": "execute_result",
          "data": {
            "text/plain": [
              "tensor(81.2887)"
            ]
          },
          "metadata": {
            "tags": []
          },
          "execution_count": 133
        }
      ]
    },
    {
      "cell_type": "code",
      "metadata": {
        "colab": {
          "base_uri": "https://localhost:8080/",
          "height": 282
        },
        "id": "1jtCvEPxAAwN",
        "outputId": "560dd44d-3fbb-4571-ff68-0e4358583933"
      },
      "source": [
        "plt.plot(y_real)\r\n",
        "plt.plot(y_pred)"
      ],
      "execution_count": null,
      "outputs": [
        {
          "output_type": "execute_result",
          "data": {
            "text/plain": [
              "[<matplotlib.lines.Line2D at 0x7f479cea1fd0>]"
            ]
          },
          "metadata": {
            "tags": []
          },
          "execution_count": 135
        },
        {
          "output_type": "display_data",
          "data": {
            "image/png": "[encoded data removed]",
            "text/plain": [
              "<Figure size 432x288 with 1 Axes>"
            ]
          },
          "metadata": {
            "tags": [],
            "needs_background": "light"
          }
        }
      ]
    },
    {
      "cell_type": "code",
      "metadata": {
        "colab": {
          "base_uri": "https://localhost:8080/"
        },
        "id": "x-OAhK3rW6yL",
        "outputId": "b194c326-4ab0-41ad-a8da-cac015311b45"
      },
      "source": [
        "net.eval()\r\n",
        "y_pred = []\r\n",
        "y_real = []\r\n",
        "for seq, label in val:\r\n",
        "  with torch.no_grad():\r\n",
        "    y_pred.append(net(seq))\r\n",
        "    y_real.append(label)\r\n",
        "\r\n",
        "y_pred = scaler.inverse_transform(np.array(y_pred).reshape(-1, 1))\r\n",
        "y_real = scaler.inverse_transform(np.array(y_real).reshape(-1, 1))\r\n",
        "err = loss_function(torch.Tensor(y_pred),torch.Tensor(y_real))\r\n",
        "err"
      ],
      "execution_count": null,
      "outputs": [
        {
          "output_type": "execute_result",
          "data": {
            "text/plain": [
              "tensor(93.8487)"
            ]
          },
          "metadata": {
            "tags": []
          },
          "execution_count": 136
        }
      ]
    },
    {
      "cell_type": "code",
      "metadata": {
        "colab": {
          "base_uri": "https://localhost:8080/",
          "height": 282
        },
        "id": "A5Bgi92R7BnC",
        "outputId": "4ede17bf-a9b9-44f3-8b38-a2f1cba11c16"
      },
      "source": [
        "plt.plot(y_real)\r\n",
        "plt.plot(y_pred)"
      ],
      "execution_count": null,
      "outputs": [
        {
          "output_type": "execute_result",
          "data": {
            "text/plain": [
              "[<matplotlib.lines.Line2D at 0x7f479cd87cf8>]"
            ]
          },
          "metadata": {
            "tags": []
          },
          "execution_count": 137
        },
        {
          "output_type": "display_data",
          "data": {
            "image/png": "[encoded data removed]",
            "text/plain": [
              "<Figure size 432x288 with 1 Axes>"
            ]
          },
          "metadata": {
            "tags": [],
            "needs_background": "light"
          }
        }
      ]
    },
    {
      "cell_type": "code",
      "metadata": {
        "id": "ZswMQLtfUT9h"
      },
      "source": [
        ""
      ],
      "execution_count": null,
      "outputs": []
    }
  ]
}