{
 "cells": [
  {
   "cell_type": "code",
   "execution_count": null,
   "metadata": {},
   "outputs": [],
   "source": [
    "import numpy as np\n",
    "import torch\n",
    "from torch.autograd import Variable\n",
    "import torch.nn as nn\n",
    "import torch.optim as optim\n",
    "import matplotlib.image as mpimg\n",
    "from skimage.transform import resize\n",
    "import matplotlib.pyplot as plt"
   ]
  },
  {
   "cell_type": "code",
   "execution_count": null,
   "metadata": {},
   "outputs": [],
   "source": [
    "class CNN(nn.Module):\n",
    "    def __init__(self):\n",
    "        super(CNN,self).__init__()\n",
    "        \n",
    "        # Defining CNN\n",
    "        # Conv Architecture:\n",
    "        '''\n",
    "        conv2d->ReLU->conv2d->ReLU->BatchNorm->maxpool2d(32x32=>16x16)->\n",
    "        conv2d->ReLU->conv2d->ReLU->BatchNorm->maxpool2d(16x16=>8x8)->Dropout->\n",
    "        conv2d->ReLU->conv2d->ReLU->BatchNorm->maxpool2d(8x8=>4X4)->\n",
    "        Classifier\n",
    "        '''\n",
    "        self.cnn = nn.Sequential(nn.Conv2d(3,32,3,1,1),\n",
    "                                 nn.ReLU(inplace = True),\n",
    "                                 nn.BatchNorm2d(32),\n",
    "                                 nn.Conv2d(32,64,3,1,1),\n",
    "                                 nn.ReLU(inplace = True),\n",
    "                                 nn.BatchNorm2d(64),\n",
    "                                 nn.MaxPool2d(2,2),\n",
    "                                 \n",
    "                                 nn.Conv2d(64,128,3,1,1),\n",
    "                                 nn.ReLU(inplace = True),\n",
    "                                 nn.BatchNorm2d(128),\n",
    "                                 nn.Conv2d(128,256,3,1,1),\n",
    "                                 nn.ReLU(inplace = True),\n",
    "                                 nn.BatchNorm2d(256),\n",
    "                                 nn.MaxPool2d(2,2),\n",
    "                                 nn.Dropout2d(p=0.3),\n",
    "                                 \n",
    "                                 nn.Conv2d(256,512,3,1,1),\n",
    "                                 nn.ReLU(inplace = True),\n",
    "                                 nn.BatchNorm2d(512),\n",
    "                                 nn.Conv2d(512,512,3,1,1),\n",
    "                                 nn.ReLU(inplace = True),\n",
    "                                 nn.BatchNorm2d(512),\n",
    "                                 nn.MaxPool2d(2,2)\n",
    "                                )\n",
    "        \n",
    "        # Defining Classifier\n",
    "        # Classifier Architecture:\n",
    "        '''\n",
    "        CNN->Flatten->\n",
    "        Linear->ReLU->\n",
    "        Linear->ReLU->Dropout->\n",
    "        Linear->ReLU->\n",
    "        Linear-> Scores\n",
    "        '''\n",
    "        self.classifier = nn.Sequential(nn.Linear(8192,2048),\n",
    "                                        nn.ReLU(inplace=True),\n",
    "                                        \n",
    "                                        nn.Linear(2048,1024),\n",
    "                                        nn.ReLU(inplace=True),\n",
    "                                        nn.Dropout(p=0.3),\n",
    "                                        \n",
    "                                        nn.Linear(1024,512),\n",
    "                                        nn.ReLU(inplace=True),\n",
    "                                        \n",
    "                                        nn.Linear(512,10)\n",
    "                                       )\n",
    "        \n",
    "    def forward(self,x):\n",
    "        \n",
    "        # Forward Propagation \n",
    "        x = self.cnn(x)\n",
    "        x = x.reshape(-1,4*4*512)\n",
    "        x = self.classifier(x)\n",
    "        \n",
    "        return x\n",
    "    "
   ]
  },
  {
   "cell_type": "code",
   "execution_count": null,
   "metadata": {},
   "outputs": [],
   "source": [
    "def predict(path):\n",
    "    \n",
    "    classes = ('airplane', 'automobile', 'bird', 'cat', 'deer', \n",
    "               'dog', 'frog', 'horse', 'ship', 'truck')\n",
    "    img_ori = mpimg.imread(path)\n",
    "    \n",
    "    img_re=resize(img_ori,(32,32))\n",
    "    img_re = img_re.reshape(1,32,32,3)\n",
    "    img_re = np.transpose(img_re,(0,3,1,2))\n",
    "    img = torch.tensor(img_re).float().cuda()\n",
    "    \n",
    "    y = model(img)\n",
    "    label = classes[torch.argmax(y)]\n",
    "    \n",
    "    plt.imshow(img_ori)\n",
    "    plt.title(label)\n",
    "    plt.show"
   ]
  },
  {
   "cell_type": "code",
   "execution_count": null,
   "metadata": {},
   "outputs": [],
   "source": [
    "model = torch.load('cnn.pt')"
   ]
  },
  {
   "cell_type": "code",
   "execution_count": null,
   "metadata": {},
   "outputs": [],
   "source": [
    "path = pass\n",
    "predict(path)"
   ]
  }
 ],
 "metadata": {
  "kernelspec": {
   "display_name": "Python 3",
   "language": "python",
   "name": "python3"
  },
  "language_info": {
   "codemirror_mode": {
    "name": "ipython",
    "version": 3
   },
   "file_extension": ".py",
   "mimetype": "text/x-python",
   "name": "python",
   "nbconvert_exporter": "python",
   "pygments_lexer": "ipython3",
   "version": "3.7.6"
  }
 },
 "nbformat": 4,
 "nbformat_minor": 4
}
