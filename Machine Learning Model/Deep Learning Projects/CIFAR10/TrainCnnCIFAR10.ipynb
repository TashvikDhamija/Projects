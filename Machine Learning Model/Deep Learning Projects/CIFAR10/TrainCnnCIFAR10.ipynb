{
 "cells": [
  {
   "cell_type": "markdown",
   "metadata": {},
   "source": [
    "**IMPORTING LIBRARIES**"
   ]
  },
  {
   "cell_type": "code",
   "execution_count": null,
   "metadata": {},
   "outputs": [],
   "source": [
    "import pandas as pd\n",
    "import numpy as np\n",
    "\n",
    "import torch\n",
    "from torch.autograd import Variable\n",
    "import torch.nn as nn\n",
    "import torch.optim as optim\n",
    "import torchvision\n",
    "import torchvision.transforms as T\n",
    "import PIL\n",
    "\n",
    "from skimage.io import imread\n",
    "import matplotlib.pyplot as plt\n",
    "%matplotlib inline"
   ]
  },
  {
   "cell_type": "markdown",
   "metadata": {},
   "source": [
    "**DATA TRANSFORM**"
   ]
  },
  {
   "cell_type": "code",
   "execution_count": null,
   "metadata": {},
   "outputs": [],
   "source": [
    "transform = T.Compose(\n",
    "                [T.ToTensor(),T.Normalize((0.5,),(0.5,))]\n",
    "                     )"
   ]
  },
  {
   "cell_type": "markdown",
   "metadata": {},
   "source": [
    "**LOADING CIFAR10 DATASET**"
   ]
  },
  {
   "cell_type": "code",
   "execution_count": null,
   "metadata": {},
   "outputs": [],
   "source": [
    "import torchvision.datasets as dset\n",
    "from torch.utils.data import sampler,DataLoader\n",
    "\n",
    "class ChunkSampler(sampler.Sampler):\n",
    "    \"\"\"Samples elements sequentially from some offset. \n",
    "    Arguments:\n",
    "        num_samples: # of desired datapoints\n",
    "        start: offset where we should start selecting from\n",
    "    \"\"\"\n",
    "    def __init__(self, num_samples, start = 0):\n",
    "        self.num_samples = num_samples\n",
    "        self.start = start\n",
    "\n",
    "    def __iter__(self):\n",
    "        return iter(range(self.start, self.start + self.num_samples))\n",
    "\n",
    "    def __len__(self):\n",
    "        return self.num_samples\n",
    "\n",
    "\n",
    "NUM_TRAIN = 49000\n",
    "NUM_VAL = 1000\n",
    "\n",
    "trainSet = dset.CIFAR10(root = 'OneDrive/Documents/Machine Learning/DL/', \n",
    "                             train=True, \n",
    "                             download=True,\n",
    "                             transform=transform)\n",
    "\n",
    "trainLoader = DataLoader(trainSet, \n",
    "                          batch_size=128, \n",
    "                          sampler=ChunkSampler(NUM_TRAIN, 0))\n",
    "\n",
    "valSet = dset.CIFAR10(root = 'OneDrive/Documents/Machine Learning/DL/', \n",
    "                           train=True, \n",
    "                           download=True,\n",
    "                           transform=transform)\n",
    "\n",
    "valLoader = DataLoader(valSet, \n",
    "                        batch_size=128, \n",
    "                        sampler=ChunkSampler(NUM_VAL, NUM_TRAIN))\n",
    "\n",
    "testSet = dset.CIFAR10(root = 'OneDrive/Documents/Machine Learning/DL/', \n",
    "                            train=False, \n",
    "                            download=True,\n",
    "                            transform=transform)\n",
    "\n",
    "testLoader = DataLoader(testSet, \n",
    "                         batch_size=128)\n",
    "classes = ('airplane', 'automobile', 'bird', 'cat', 'deer', \n",
    "           'dog', 'frog', 'horse', 'ship', 'truck')"
   ]
  },
  {
   "cell_type": "markdown",
   "metadata": {},
   "source": [
    "**VISUALIZING DATA**"
   ]
  },
  {
   "cell_type": "code",
   "execution_count": null,
   "metadata": {},
   "outputs": [],
   "source": [
    "fig = plt.figure(figsize = (12,12))\n",
    "for i in range(1,17):\n",
    "    plt.subplot(4,4,i)\n",
    "    plt.imshow(trainSet.data[i])"
   ]
  },
  {
   "cell_type": "code",
   "execution_count": null,
   "metadata": {},
   "outputs": [],
   "source": [
    "print(trainSet.data.shape)\n",
    "print(testSet.data.shape)"
   ]
  },
  {
   "cell_type": "markdown",
   "metadata": {},
   "source": [
    "**TRAINING and ACCURACY FUNCTIONS**"
   ]
  },
  {
   "cell_type": "code",
   "execution_count": null,
   "metadata": {},
   "outputs": [],
   "source": [
    "def train(net,loss_func,opt,num_epoch=1):\n",
    "    iteration = 0\n",
    "    loss_list = []\n",
    "    iter_list = []\n",
    "    val_acc_list = []\n",
    "    for epoch in range(num_epoch):\n",
    "        print(\"Epoch %d/%d\"%(epoch+1,num_epoch))\n",
    "        net.train()\n",
    "        for i,data in enumerate(trainLoader,0):\n",
    "            torch.cuda.empty_cache()\n",
    "            inputs, labels = data\n",
    "\n",
    "            # Using GPU\n",
    "            inputs = inputs.to(device)\n",
    "            labels = labels.to(device)\n",
    "\n",
    "            # Wrapping in Variable\n",
    "            inputs, labels = Variable(inputs), Variable(labels)\n",
    "\n",
    "            # Clearing previous gradients\n",
    "            opt.zero_grad()\n",
    "\n",
    "            # Forward Propagation\n",
    "            scores = net(inputs)\n",
    "            loss = loss_func(scores,labels)\n",
    "\n",
    "            # Backpropagation\n",
    "            loss.backward()\n",
    "            opt.step()\n",
    "\n",
    "            iteration += 1\n",
    "            if iteration % 50 == 0:\n",
    "                loss_list.append(loss)\n",
    "                iter_list.append(iteration)\n",
    "                # Print Loss\n",
    "                print('Iteration: %d, loss = %0.2f'%(iteration,loss))\n",
    "        \n",
    "        val_acc = check_accuracy(net,valLoader)\n",
    "        val_acc_list.append(val_acc)\n",
    "        \n",
    "    \n",
    "    return iter_list,loss_list,val_acc_list"
   ]
  },
  {
   "cell_type": "code",
   "execution_count": null,
   "metadata": {},
   "outputs": [],
   "source": [
    "def vizualize(iter_l,loss_l,val_l,epochs=1):\n",
    "    # visualizing loss function\n",
    "    plt.plot(iter_l,loss_l)\n",
    "    plt.xlabel('Iterations')\n",
    "    plt.ylabel('Loss')\n",
    "    plt.title('Optimizing Lost function over CIFAR10 Dataset')\n",
    "    plt.show()\n",
    "\n",
    "    #visualizing Val Accuracy\n",
    "    plt.plot(np.arange(epochs),val_l)\n",
    "    plt.xlabel('Epochs')\n",
    "    plt.ylabel('Accuracy')\n",
    "    plt.title('Accuracy over Validation Set')\n",
    "    plt.show()"
   ]
  },
  {
   "cell_type": "code",
   "execution_count": null,
   "metadata": {},
   "outputs": [],
   "source": [
    "def check_accuracy(model,loader):\n",
    "    if loader.dataset.train:\n",
    "        print('Checking accuracy on validation set')\n",
    "    else:\n",
    "        print('Checking accuracy on test set')\n",
    "    num_correct = 0\n",
    "    num_samples = 0\n",
    "    model.eval()\n",
    "    for i,data in enumerate(loader,0):\n",
    "            torch.cuda.empty_cache()\n",
    "            inputs, labels = data\n",
    "            \n",
    "            # Using GPU\n",
    "            inputs = inputs.to(device)\n",
    "            labels = labels.to(device)\n",
    "            \n",
    "            # Forward Propagation\n",
    "            scores = model(inputs)\n",
    "            # Get predictions from the maximum value\n",
    "            predicted = torch.max(scores.data, 1)[1]\n",
    "                \n",
    "            # Total number of labels\n",
    "            num_samples += len(labels)\n",
    "                \n",
    "            num_correct += (predicted == labels).sum()\n",
    "            \n",
    "    accuracy = 100 * num_correct / float(num_samples)\n",
    "    print('Got %d / %d correct (%.2f)' % (num_correct, num_samples, accuracy))\n",
    "    return accuracy"
   ]
  },
  {
   "cell_type": "markdown",
   "metadata": {},
   "source": [
    "**CNN MODEL FOR CIFAR10**"
   ]
  },
  {
   "cell_type": "code",
   "execution_count": null,
   "metadata": {},
   "outputs": [],
   "source": [
    "class CNN(nn.Module):\n",
    "    def __init__(self):\n",
    "        super(CNN,self).__init__()\n",
    "        \n",
    "        # Defining CNN\n",
    "        # Conv Architecture:\n",
    "        '''\n",
    "        conv2d->ReLU->conv2d->ReLU->BatchNorm->maxpool2d(32x32=>16x16)->\n",
    "        conv2d->ReLU->conv2d->ReLU->BatchNorm->maxpool2d(16x16=>8x8)->Dropout->\n",
    "        conv2d->ReLU->conv2d->ReLU->BatchNorm->maxpool2d(8x8=>4X4)->\n",
    "        Classifier\n",
    "        '''\n",
    "        self.cnn = nn.Sequential(nn.Conv2d(3,32,3,1,1),\n",
    "                                 nn.ReLU(inplace = True),\n",
    "                                 nn.BatchNorm2d(32),\n",
    "                                 nn.Conv2d(32,64,3,1,1),\n",
    "                                 nn.ReLU(inplace = True),\n",
    "                                 nn.BatchNorm2d(64),\n",
    "                                 nn.MaxPool2d(2,2),\n",
    "                                 \n",
    "                                 nn.Conv2d(64,128,3,1,1),\n",
    "                                 nn.ReLU(inplace = True),\n",
    "                                 nn.BatchNorm2d(128),\n",
    "                                 nn.Conv2d(128,256,3,1,1),\n",
    "                                 nn.ReLU(inplace = True),\n",
    "                                 nn.BatchNorm2d(256),\n",
    "                                 nn.MaxPool2d(2,2),\n",
    "                                 nn.Dropout2d(p=0.3),\n",
    "                                 \n",
    "                                 nn.Conv2d(256,512,3,1,1),\n",
    "                                 nn.ReLU(inplace = True),\n",
    "                                 nn.BatchNorm2d(512),\n",
    "                                 nn.Conv2d(512,512,3,1,1),\n",
    "                                 nn.ReLU(inplace = True),\n",
    "                                 nn.BatchNorm2d(512),\n",
    "                                 nn.MaxPool2d(2,2)\n",
    "                                )\n",
    "        \n",
    "        # Defining Classifier\n",
    "        # Classifier Architecture:\n",
    "        '''\n",
    "        CNN->Flatten->\n",
    "        Linear->ReLU->\n",
    "        Linear->ReLU->Dropout->\n",
    "        Linear->ReLU->\n",
    "        Linear-> Scores\n",
    "        '''\n",
    "        self.classifier = nn.Sequential(nn.Linear(8192,2048),\n",
    "                                        nn.ReLU(inplace=True),\n",
    "                                        \n",
    "                                        nn.Linear(2048,1024),\n",
    "                                        nn.ReLU(inplace=True),\n",
    "                                        nn.Dropout(p=0.3),\n",
    "                                        \n",
    "                                        nn.Linear(1024,512),\n",
    "                                        nn.ReLU(inplace=True),\n",
    "                                        \n",
    "                                        nn.Linear(512,10)\n",
    "                                       )\n",
    "        \n",
    "    def forward(self,x):\n",
    "        \n",
    "        # Forward Propagation \n",
    "        x = self.cnn(x)\n",
    "        x = x.reshape(-1,4*4*512)\n",
    "        x = self.classifier(x)\n",
    "        \n",
    "        return x\n",
    "    "
   ]
  },
  {
   "cell_type": "markdown",
   "metadata": {},
   "source": [
    "**GPU!**"
   ]
  },
  {
   "cell_type": "code",
   "execution_count": null,
   "metadata": {},
   "outputs": [],
   "source": [
    "print(\"GPU Available:\",torch.cuda.is_available())\n",
    "print(\"Number of GPU available:\",torch.cuda.device_count())"
   ]
  },
  {
   "cell_type": "code",
   "execution_count": null,
   "metadata": {},
   "outputs": [],
   "source": [
    "device = torch.device(\"cpu\")\n",
    "if torch.cuda.is_available():\n",
    "    device = torch.device(\"cuda:0\")\n",
    "    print(\"Running on the GPU\")\n",
    "else:\n",
    "    print(\"Running on the CPU\")"
   ]
  },
  {
   "cell_type": "markdown",
   "metadata": {},
   "source": [
    "**DEFINING NET, LOSS AND OPTIMIZER**"
   ]
  },
  {
   "cell_type": "code",
   "execution_count": null,
   "metadata": {},
   "outputs": [],
   "source": [
    "net = CNN()\n",
    "net.to(device)\n",
    "loss_func = nn.CrossEntropyLoss()\n",
    "opt = optim.Adam(params = net.parameters(), lr=1e-3)"
   ]
  },
  {
   "cell_type": "markdown",
   "metadata": {},
   "source": [
    "**TRAINING and VIZUALISATION of MODEL**"
   ]
  },
  {
   "cell_type": "code",
   "execution_count": null,
   "metadata": {},
   "outputs": [],
   "source": [
    "num_epoch = 20\n",
    "a,b,c = train(net,loss_func,opt,num_epoch)"
   ]
  },
  {
   "cell_type": "code",
   "execution_count": null,
   "metadata": {},
   "outputs": [],
   "source": [
    "vizualize(a,b,c,num_epoch)"
   ]
  },
  {
   "cell_type": "code",
   "execution_count": null,
   "metadata": {},
   "outputs": [],
   "source": [
    "_ = check_accuracy(net,testLoader)"
   ]
  },
  {
   "cell_type": "code",
   "execution_count": null,
   "metadata": {},
   "outputs": [],
   "source": [
    "check_accuracy(net,trainLoader)"
   ]
  },
  {
   "cell_type": "code",
   "execution_count": null,
   "metadata": {},
   "outputs": [],
   "source": [
    "check_accuracy(net,testLoader)"
   ]
  },
  {
   "cell_type": "code",
   "execution_count": null,
   "metadata": {},
   "outputs": [],
   "source": [
    "check_accuracy(net,valLoader)"
   ]
  },
  {
   "cell_type": "markdown",
   "metadata": {},
   "source": [
    "**SAVING MODEL**"
   ]
  },
  {
   "cell_type": "code",
   "execution_count": null,
   "metadata": {},
   "outputs": [],
   "source": [
    "torch.save(net.state_dict(), 'cnn_cifar10')"
   ]
  },
  {
   "cell_type": "markdown",
   "metadata": {},
   "source": [
    "**LOADING MODEL**"
   ]
  },
  {
   "cell_type": "code",
   "execution_count": null,
   "metadata": {},
   "outputs": [],
   "source": [
    "model = CNN()\n",
    "model.load_state_dict(torch.load('cnn_cifar10'))\n",
    "model.to(device)\n",
    "model.eval()"
   ]
  }
 ],
 "metadata": {
  "kernelspec": {
   "display_name": "Python 3",
   "language": "python",
   "name": "python3"
  },
  "language_info": {
   "codemirror_mode": {
    "name": "ipython",
    "version": 3
   },
   "file_extension": ".py",
   "mimetype": "text/x-python",
   "name": "python",
   "nbconvert_exporter": "python",
   "pygments_lexer": "ipython3",
   "version": "3.7.6"
  }
 },
 "nbformat": 4,
 "nbformat_minor": 4
}
